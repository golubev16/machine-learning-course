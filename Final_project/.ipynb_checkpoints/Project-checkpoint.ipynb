{
 "cells": [
  {
   "cell_type": "code",
   "execution_count": 171,
   "metadata": {},
   "outputs": [],
   "source": [
    "import pandas as pd\n",
    "import numpy as np\n",
    "import string\n",
    "import gensim\n",
    "import matplotlib.pyplot as plt\n",
    "import re  \n",
    "import nltk\n",
    "plt.style.use('ggplot')\n",
    "\n",
    "from collections import Counter\n",
    "from sklearn.model_selection import train_test_split\n",
    "from sklearn.preprocessing  import LabelEncoder\n",
    "from sklearn.feature_extraction.text import TfidfVectorizer\n",
    "from sklearn.linear_model import SGDClassifier\n",
    "from sklearn.pipeline import Pipeline\n",
    "from sklearn.metrics import balanced_accuracy_score\n",
    "import pyLDAvis\n",
    "import pyLDAvis.gensim\n",
    "from tqdm import tqdm_notebook\n",
    "import warnings\n",
    "warnings.filterwarnings(\"ignore\")\n",
    "\n",
    "TOKEN_PATTERN_rus = \"[а-яё]+\"\n",
    "from nltk.corpus import stopwords\n",
    "stop_words = set(stopwords.words(\"russian\"))"
   ]
  },
  {
   "cell_type": "code",
   "execution_count": 101,
   "metadata": {},
   "outputs": [],
   "source": [
    "df1 = pd.read_csv('kp_all_parts_1-9.csv')\n",
    "df2 = pd.read_csv('kp_all_part_10.csv')\n",
    "df3 = pd.read_csv('kp_all_part_11.csv')\n",
    "df4 = pd.read_csv('kp_all_part_12.csv')\n",
    "df5 = pd.read_csv('kp_all_part_13.csv')\n",
    "df6 = pd.read_csv('kp_all_part_14.csv')\n",
    "df1.drop(\"Unnamed: 0\", axis = 1, inplace=True)"
   ]
  },
  {
   "cell_type": "code",
   "execution_count": 102,
   "metadata": {},
   "outputs": [],
   "source": [
    "df = pd.concat([df1, df2, df3, df4, df5, df6], ignore_index= True)"
   ]
  },
  {
   "cell_type": "code",
   "execution_count": 103,
   "metadata": {},
   "outputs": [
    {
     "name": "stdout",
     "output_type": "stream",
     "text": [
      "<class 'pandas.core.frame.DataFrame'>\n",
      "RangeIndex: 493757 entries, 0 to 493756\n",
      "Data columns (total 29 columns):\n",
      " #   Column                      Non-Null Count   Dtype  \n",
      "---  ------                      --------------   -----  \n",
      " 0   filmId                      493757 non-null  int64  \n",
      " 1   nameRu                      493755 non-null  object \n",
      " 2   nameEn                      169985 non-null  object \n",
      " 3   webUrl                      493757 non-null  object \n",
      " 4   year                        476420 non-null  float64\n",
      " 5   filmLength                  344636 non-null  object \n",
      " 6   slogan                      83166 non-null   object \n",
      " 7   description                 106427 non-null  object \n",
      " 8   type                        493757 non-null  object \n",
      " 9   ratingAgeLimits             60139 non-null   float64\n",
      " 10  premiereRu                  8952 non-null    object \n",
      " 11  distributors                6453 non-null    object \n",
      " 12  premiereWorld               329890 non-null  object \n",
      " 13  premiereDigital             690 non-null     object \n",
      " 14  premiereWorldCountry        329896 non-null  object \n",
      " 15  countries                   493757 non-null  object \n",
      " 16  genres                      493757 non-null  object \n",
      " 17  rating                      493757 non-null  float64\n",
      " 18  ratingVoteCount             493757 non-null  int64  \n",
      " 19  ratingImdb                  493757 non-null  float64\n",
      " 20  ratingImdbVoteCount         493757 non-null  int64  \n",
      " 21  ratingFilmCritics           15450 non-null   object \n",
      " 22  ratingFilmCriticsVoteCount  493757 non-null  int64  \n",
      " 23  budget                      72717 non-null   object \n",
      " 24  actors                      486825 non-null  object \n",
      " 25  directors                   486825 non-null  object \n",
      " 26  producers                   486825 non-null  object \n",
      " 27  writers                     486825 non-null  object \n",
      " 28  operators                   486825 non-null  object \n",
      "dtypes: float64(4), int64(4), object(21)\n",
      "memory usage: 109.2+ MB\n"
     ]
    }
   ],
   "source": [
    "df.info()"
   ]
  },
  {
   "cell_type": "code",
   "execution_count": 104,
   "metadata": {},
   "outputs": [],
   "source": [
    "df.drop([\"filmId\", \"webUrl\", \"type\", \"premiereRu\", \"distributors\", \"premiereDigital\", \"rating\", \"ratingVoteCount\", \"premiereWorld\", \"ratingFilmCritics\", \"ratingFilmCriticsVoteCount\", \"premiereWorldCountry\"], axis = 1, inplace=True)"
   ]
  },
  {
   "cell_type": "code",
   "execution_count": 105,
   "metadata": {},
   "outputs": [],
   "source": [
    "i = 0\n",
    "filmLength = []\n",
    "\n",
    "for el in df.filmLength:\n",
    "    if isinstance(el, str):\n",
    "        try:\n",
    "            h, m = el.split(\":\")\n",
    "            h = int(h)\n",
    "            m = int(m)\n",
    "            filmLength.append(h*60+m)\n",
    "        except TypeError:\n",
    "            filmLength.append(0)\n",
    "    else:\n",
    "        filmLength.append(0)"
   ]
  },
  {
   "cell_type": "code",
   "execution_count": 106,
   "metadata": {},
   "outputs": [],
   "source": [
    "df.filmLength = filmLength"
   ]
  },
  {
   "cell_type": "code",
   "execution_count": 107,
   "metadata": {},
   "outputs": [],
   "source": [
    "#перевёл время в минуты"
   ]
  },
  {
   "cell_type": "code",
   "execution_count": 108,
   "metadata": {},
   "outputs": [],
   "source": [
    "countries = []\n",
    "for el in df.countries:\n",
    "    try:\n",
    "        strani = []\n",
    "        c = el.split(\",\")\n",
    "        for i in c:\n",
    "            a, b = i.split(\":\")\n",
    "            b = b[2:-2]\n",
    "            if \"'\" in b:\n",
    "                b = b[:-1]\n",
    "            strani.append(b)\n",
    "        countries.append(strani)\n",
    "    except ValueError:\n",
    "        countries.append('0')"
   ]
  },
  {
   "cell_type": "code",
   "execution_count": 109,
   "metadata": {},
   "outputs": [],
   "source": [
    "df.countries = countries"
   ]
  },
  {
   "cell_type": "code",
   "execution_count": 110,
   "metadata": {},
   "outputs": [],
   "source": [
    "genres = []\n",
    "for el in df.genres:\n",
    "    try:\n",
    "        genre = []\n",
    "        c = el.split(\",\")\n",
    "        for i in c:\n",
    "            a, b = i.split(\":\")\n",
    "            b = b[2:-2]\n",
    "            if \"'\" in b:\n",
    "                b = b[:-1]\n",
    "            genre.append(b)\n",
    "        genres.append(genre)\n",
    "    except ValueError:\n",
    "        genres.append('0')"
   ]
  },
  {
   "cell_type": "code",
   "execution_count": 111,
   "metadata": {},
   "outputs": [],
   "source": [
    "df.genres = genres"
   ]
  },
  {
   "cell_type": "code",
   "execution_count": 112,
   "metadata": {},
   "outputs": [],
   "source": [
    "def isNaN(num):\n",
    "    return num != num"
   ]
  },
  {
   "cell_type": "code",
   "execution_count": 113,
   "metadata": {},
   "outputs": [],
   "source": [
    "ratingAgeLimits = []\n",
    "for el in df.ratingAgeLimits:\n",
    "    if isNaN(el):\n",
    "        ratingAgeLimits.append(0)\n",
    "    else:\n",
    "        ratingAgeLimits.append(el)"
   ]
  },
  {
   "cell_type": "code",
   "execution_count": 114,
   "metadata": {},
   "outputs": [],
   "source": [
    "df.ratingAgeLimits = ratingAgeLimits"
   ]
  },
  {
   "cell_type": "code",
   "execution_count": 115,
   "metadata": {},
   "outputs": [
    {
     "data": {
      "text/html": [
       "<div>\n",
       "<style scoped>\n",
       "    .dataframe tbody tr th:only-of-type {\n",
       "        vertical-align: middle;\n",
       "    }\n",
       "\n",
       "    .dataframe tbody tr th {\n",
       "        vertical-align: top;\n",
       "    }\n",
       "\n",
       "    .dataframe thead th {\n",
       "        text-align: right;\n",
       "    }\n",
       "</style>\n",
       "<table border=\"1\" class=\"dataframe\">\n",
       "  <thead>\n",
       "    <tr style=\"text-align: right;\">\n",
       "      <th></th>\n",
       "      <th>nameRu</th>\n",
       "      <th>nameEn</th>\n",
       "      <th>year</th>\n",
       "      <th>filmLength</th>\n",
       "      <th>slogan</th>\n",
       "      <th>description</th>\n",
       "      <th>ratingAgeLimits</th>\n",
       "      <th>countries</th>\n",
       "      <th>genres</th>\n",
       "      <th>ratingImdb</th>\n",
       "      <th>ratingImdbVoteCount</th>\n",
       "      <th>budget</th>\n",
       "      <th>actors</th>\n",
       "      <th>directors</th>\n",
       "      <th>producers</th>\n",
       "      <th>writers</th>\n",
       "      <th>operators</th>\n",
       "    </tr>\n",
       "  </thead>\n",
       "  <tbody>\n",
       "    <tr>\n",
       "      <th>0</th>\n",
       "      <td>Люди Икс 2</td>\n",
       "      <td>X2</td>\n",
       "      <td>2003.0</td>\n",
       "      <td>134</td>\n",
       "      <td>Сплотиться сегодня, чтобы наступило завтра</td>\n",
       "      <td>Мутанты продолжают борьбу против общества, кот...</td>\n",
       "      <td>12.0</td>\n",
       "      <td>[Канада, США]</td>\n",
       "      <td>[боевик, триллер, фантастика]</td>\n",
       "      <td>7.4</td>\n",
       "      <td>505311</td>\n",
       "      <td>$110 000 000</td>\n",
       "      <td>[8214, 8213, 8215, 1179, 8216, 6577, 7228, 821...</td>\n",
       "      <td>[8210]</td>\n",
       "      <td>[11274, 8212, 8210, 31424, 26945]</td>\n",
       "      <td>[8285, 8288, 8281, 8211, 31461, 8283, 31462, 8...</td>\n",
       "      <td>[307904]</td>\n",
       "    </tr>\n",
       "    <tr>\n",
       "      <th>1</th>\n",
       "      <td>Матрица: Перезагрузка</td>\n",
       "      <td>The Matrix Reloaded</td>\n",
       "      <td>2003.0</td>\n",
       "      <td>138</td>\n",
       "      <td>Одни машины помогают нам жить, другие – пытают...</td>\n",
       "      <td>Борцы за свободу Нео, Тринити и Морфеус продол...</td>\n",
       "      <td>16.0</td>\n",
       "      <td>[США]</td>\n",
       "      <td>[боевик, фантастика]</td>\n",
       "      <td>7.2</td>\n",
       "      <td>507372</td>\n",
       "      <td>$150 000 000</td>\n",
       "      <td>[7836, 9838, 1491, 6226, 520, 23331, 12193, 27...</td>\n",
       "      <td>[23330, 23329]</td>\n",
       "      <td>[23329, 23330]</td>\n",
       "      <td>[1790, 712, 1486300, 31351, 8525, 675690, 3140...</td>\n",
       "      <td>[278101]</td>\n",
       "    </tr>\n",
       "    <tr>\n",
       "      <th>2</th>\n",
       "      <td>Лиззи Магуайр</td>\n",
       "      <td>The Lizzie McGuire Movie</td>\n",
       "      <td>2003.0</td>\n",
       "      <td>94</td>\n",
       "      <td>Lizze McGuire goes to Rome.</td>\n",
       "      <td>Тринадцатилетняя школьница Лиззи Магуайер и ее...</td>\n",
       "      <td>12.0</td>\n",
       "      <td>[США]</td>\n",
       "      <td>[комедия, мелодрама, приключения]</td>\n",
       "      <td>5.5</td>\n",
       "      <td>35239</td>\n",
       "      <td>$17 000 000</td>\n",
       "      <td>[31505, 31506, 1199020, 27255, 8781, 31508, 31...</td>\n",
       "      <td>[31501]</td>\n",
       "      <td>[31502, 31503, 31504, 31536]</td>\n",
       "      <td>[31538, 31502, 404151, 1122338, 1667153, 31536...</td>\n",
       "      <td>[284350]</td>\n",
       "    </tr>\n",
       "    <tr>\n",
       "      <th>3</th>\n",
       "      <td>Матрица</td>\n",
       "      <td>The Matrix</td>\n",
       "      <td>1999.0</td>\n",
       "      <td>136</td>\n",
       "      <td>Добро пожаловать в реальный мир</td>\n",
       "      <td>Жизнь Томаса Андерсона разделена на две части:...</td>\n",
       "      <td>16.0</td>\n",
       "      <td>[США]</td>\n",
       "      <td>[боевик, фантастика]</td>\n",
       "      <td>8.7</td>\n",
       "      <td>1639188</td>\n",
       "      <td>$63 000 000</td>\n",
       "      <td>[7836, 9838, 6226, 1491, 23331, 9030, 23332, 2...</td>\n",
       "      <td>[23330, 23329]</td>\n",
       "      <td>[23329, 23330]</td>\n",
       "      <td>[1790, 712, 1787, 23359, 8525, 23360, 23361, 9...</td>\n",
       "      <td>[278101]</td>\n",
       "    </tr>\n",
       "    <tr>\n",
       "      <th>4</th>\n",
       "      <td>Клад</td>\n",
       "      <td>Holes</td>\n",
       "      <td>2003.0</td>\n",
       "      <td>117</td>\n",
       "      <td>Кто ищет, тот всегда найдёт</td>\n",
       "      <td>Стэнли арестован по ложному обвинению в краже ...</td>\n",
       "      <td>12.0</td>\n",
       "      <td>[США]</td>\n",
       "      <td>[детектив, драма, комедия]</td>\n",
       "      <td>7.0</td>\n",
       "      <td>76131</td>\n",
       "      <td>$20 000 000</td>\n",
       "      <td>[6915, 515, 7628, 30162, 10087, 7666, 25307, 1...</td>\n",
       "      <td>[31623]</td>\n",
       "      <td>[31624]</td>\n",
       "      <td>[31666, 31623, 6314, 31668, 7306, 3158885, 261...</td>\n",
       "      <td>[608570]</td>\n",
       "    </tr>\n",
       "    <tr>\n",
       "      <th>...</th>\n",
       "      <td>...</td>\n",
       "      <td>...</td>\n",
       "      <td>...</td>\n",
       "      <td>...</td>\n",
       "      <td>...</td>\n",
       "      <td>...</td>\n",
       "      <td>...</td>\n",
       "      <td>...</td>\n",
       "      <td>...</td>\n",
       "      <td>...</td>\n",
       "      <td>...</td>\n",
       "      <td>...</td>\n",
       "      <td>...</td>\n",
       "      <td>...</td>\n",
       "      <td>...</td>\n",
       "      <td>...</td>\n",
       "      <td>...</td>\n",
       "    </tr>\n",
       "    <tr>\n",
       "      <th>493752</th>\n",
       "      <td>Analiens</td>\n",
       "      <td>NaN</td>\n",
       "      <td>2014.0</td>\n",
       "      <td>10</td>\n",
       "      <td>NaN</td>\n",
       "      <td>NaN</td>\n",
       "      <td>0.0</td>\n",
       "      <td>[Испания]</td>\n",
       "      <td>[короткометражка, фантастика]</td>\n",
       "      <td>0.0</td>\n",
       "      <td>0</td>\n",
       "      <td>€2 000</td>\n",
       "      <td>[1207069, 1208094, 459157, 4185791, 4185792, 4...</td>\n",
       "      <td>[3781794]</td>\n",
       "      <td>[3781794]</td>\n",
       "      <td>[4185797, 3781794, 3781795]</td>\n",
       "      <td>[3781796]</td>\n",
       "    </tr>\n",
       "    <tr>\n",
       "      <th>493753</th>\n",
       "      <td>Оттрахать босса 3</td>\n",
       "      <td>Bangin' the Boss 3</td>\n",
       "      <td>2014.0</td>\n",
       "      <td>110</td>\n",
       "      <td>NaN</td>\n",
       "      <td>NaN</td>\n",
       "      <td>18.0</td>\n",
       "      <td>[США]</td>\n",
       "      <td>[для взрослых]</td>\n",
       "      <td>0.0</td>\n",
       "      <td>0</td>\n",
       "      <td>NaN</td>\n",
       "      <td>[2256024, 3731645, 1245476, 1349120, 1245183, ...</td>\n",
       "      <td>[228272]</td>\n",
       "      <td>[]</td>\n",
       "      <td>[]</td>\n",
       "      <td>[]</td>\n",
       "    </tr>\n",
       "    <tr>\n",
       "      <th>493754</th>\n",
       "      <td>Manny and the Bell</td>\n",
       "      <td>NaN</td>\n",
       "      <td>2015.0</td>\n",
       "      <td>3</td>\n",
       "      <td>NaN</td>\n",
       "      <td>NaN</td>\n",
       "      <td>0.0</td>\n",
       "      <td>[США]</td>\n",
       "      <td>[комедия, короткометражка]</td>\n",
       "      <td>0.0</td>\n",
       "      <td>0</td>\n",
       "      <td>$2 000</td>\n",
       "      <td>[972646, 1711497, 4185799, 4185800]</td>\n",
       "      <td>[4185798]</td>\n",
       "      <td>[4149456]</td>\n",
       "      <td>[4149456]</td>\n",
       "      <td>[2951081]</td>\n",
       "    </tr>\n",
       "    <tr>\n",
       "      <th>493755</th>\n",
       "      <td>Lita på mig</td>\n",
       "      <td>NaN</td>\n",
       "      <td>2017.0</td>\n",
       "      <td>25</td>\n",
       "      <td>NaN</td>\n",
       "      <td>NaN</td>\n",
       "      <td>0.0</td>\n",
       "      <td>[Швеция]</td>\n",
       "      <td>[драма, короткометражка]</td>\n",
       "      <td>0.0</td>\n",
       "      <td>0</td>\n",
       "      <td>SEK 50 000</td>\n",
       "      <td>[4305982, 3856620, 4305984, 4305985, 4553757]</td>\n",
       "      <td>[2462810]</td>\n",
       "      <td>[2462810]</td>\n",
       "      <td>[2462810]</td>\n",
       "      <td>[2559032]</td>\n",
       "    </tr>\n",
       "    <tr>\n",
       "      <th>493756</th>\n",
       "      <td>in/out</td>\n",
       "      <td>NaN</td>\n",
       "      <td>2015.0</td>\n",
       "      <td>21</td>\n",
       "      <td>NaN</td>\n",
       "      <td>NaN</td>\n",
       "      <td>0.0</td>\n",
       "      <td>[Швеция]</td>\n",
       "      <td>[драма, короткометражка]</td>\n",
       "      <td>0.0</td>\n",
       "      <td>0</td>\n",
       "      <td>NaN</td>\n",
       "      <td>[4185804, 4185803, 5139]</td>\n",
       "      <td>[762820]</td>\n",
       "      <td>[762820]</td>\n",
       "      <td>[762820, 2536870, 3381993, 4083897]</td>\n",
       "      <td>[640579]</td>\n",
       "    </tr>\n",
       "  </tbody>\n",
       "</table>\n",
       "<p>493757 rows × 17 columns</p>\n",
       "</div>"
      ],
      "text/plain": [
       "                       nameRu                    nameEn    year  filmLength  \\\n",
       "0                  Люди Икс 2                        X2  2003.0         134   \n",
       "1       Матрица: Перезагрузка       The Matrix Reloaded  2003.0         138   \n",
       "2               Лиззи Магуайр  The Lizzie McGuire Movie  2003.0          94   \n",
       "3                     Матрица                The Matrix  1999.0         136   \n",
       "4                        Клад                     Holes  2003.0         117   \n",
       "...                       ...                       ...     ...         ...   \n",
       "493752               Analiens                       NaN  2014.0          10   \n",
       "493753      Оттрахать босса 3        Bangin' the Boss 3  2014.0         110   \n",
       "493754     Manny and the Bell                       NaN  2015.0           3   \n",
       "493755            Lita på mig                       NaN  2017.0          25   \n",
       "493756                 in/out                       NaN  2015.0          21   \n",
       "\n",
       "                                                   slogan  \\\n",
       "0              Сплотиться сегодня, чтобы наступило завтра   \n",
       "1       Одни машины помогают нам жить, другие – пытают...   \n",
       "2                             Lizze McGuire goes to Rome.   \n",
       "3                         Добро пожаловать в реальный мир   \n",
       "4                             Кто ищет, тот всегда найдёт   \n",
       "...                                                   ...   \n",
       "493752                                                NaN   \n",
       "493753                                                NaN   \n",
       "493754                                                NaN   \n",
       "493755                                                NaN   \n",
       "493756                                                NaN   \n",
       "\n",
       "                                              description  ratingAgeLimits  \\\n",
       "0       Мутанты продолжают борьбу против общества, кот...             12.0   \n",
       "1       Борцы за свободу Нео, Тринити и Морфеус продол...             16.0   \n",
       "2       Тринадцатилетняя школьница Лиззи Магуайер и ее...             12.0   \n",
       "3       Жизнь Томаса Андерсона разделена на две части:...             16.0   \n",
       "4       Стэнли арестован по ложному обвинению в краже ...             12.0   \n",
       "...                                                   ...              ...   \n",
       "493752                                                NaN              0.0   \n",
       "493753                                                NaN             18.0   \n",
       "493754                                                NaN              0.0   \n",
       "493755                                                NaN              0.0   \n",
       "493756                                                NaN              0.0   \n",
       "\n",
       "            countries                             genres  ratingImdb  \\\n",
       "0       [Канада, США]      [боевик, триллер, фантастика]         7.4   \n",
       "1               [США]               [боевик, фантастика]         7.2   \n",
       "2               [США]  [комедия, мелодрама, приключения]         5.5   \n",
       "3               [США]               [боевик, фантастика]         8.7   \n",
       "4               [США]         [детектив, драма, комедия]         7.0   \n",
       "...               ...                                ...         ...   \n",
       "493752      [Испания]      [короткометражка, фантастика]         0.0   \n",
       "493753          [США]                     [для взрослых]         0.0   \n",
       "493754          [США]         [комедия, короткометражка]         0.0   \n",
       "493755       [Швеция]           [драма, короткометражка]         0.0   \n",
       "493756       [Швеция]           [драма, короткометражка]         0.0   \n",
       "\n",
       "        ratingImdbVoteCount        budget  \\\n",
       "0                    505311  $110 000 000   \n",
       "1                    507372  $150 000 000   \n",
       "2                     35239   $17 000 000   \n",
       "3                   1639188   $63 000 000   \n",
       "4                     76131   $20 000 000   \n",
       "...                     ...           ...   \n",
       "493752                    0        €2 000   \n",
       "493753                    0           NaN   \n",
       "493754                    0        $2 000   \n",
       "493755                    0    SEK 50 000   \n",
       "493756                    0           NaN   \n",
       "\n",
       "                                                   actors       directors  \\\n",
       "0       [8214, 8213, 8215, 1179, 8216, 6577, 7228, 821...          [8210]   \n",
       "1       [7836, 9838, 1491, 6226, 520, 23331, 12193, 27...  [23330, 23329]   \n",
       "2       [31505, 31506, 1199020, 27255, 8781, 31508, 31...         [31501]   \n",
       "3       [7836, 9838, 6226, 1491, 23331, 9030, 23332, 2...  [23330, 23329]   \n",
       "4       [6915, 515, 7628, 30162, 10087, 7666, 25307, 1...         [31623]   \n",
       "...                                                   ...             ...   \n",
       "493752  [1207069, 1208094, 459157, 4185791, 4185792, 4...       [3781794]   \n",
       "493753  [2256024, 3731645, 1245476, 1349120, 1245183, ...        [228272]   \n",
       "493754                [972646, 1711497, 4185799, 4185800]       [4185798]   \n",
       "493755      [4305982, 3856620, 4305984, 4305985, 4553757]       [2462810]   \n",
       "493756                           [4185804, 4185803, 5139]        [762820]   \n",
       "\n",
       "                                producers  \\\n",
       "0       [11274, 8212, 8210, 31424, 26945]   \n",
       "1                          [23329, 23330]   \n",
       "2            [31502, 31503, 31504, 31536]   \n",
       "3                          [23329, 23330]   \n",
       "4                                 [31624]   \n",
       "...                                   ...   \n",
       "493752                          [3781794]   \n",
       "493753                                 []   \n",
       "493754                          [4149456]   \n",
       "493755                          [2462810]   \n",
       "493756                           [762820]   \n",
       "\n",
       "                                                  writers  operators  \n",
       "0       [8285, 8288, 8281, 8211, 31461, 8283, 31462, 8...   [307904]  \n",
       "1       [1790, 712, 1486300, 31351, 8525, 675690, 3140...   [278101]  \n",
       "2       [31538, 31502, 404151, 1122338, 1667153, 31536...   [284350]  \n",
       "3       [1790, 712, 1787, 23359, 8525, 23360, 23361, 9...   [278101]  \n",
       "4       [31666, 31623, 6314, 31668, 7306, 3158885, 261...   [608570]  \n",
       "...                                                   ...        ...  \n",
       "493752                        [4185797, 3781794, 3781795]  [3781796]  \n",
       "493753                                                 []         []  \n",
       "493754                                          [4149456]  [2951081]  \n",
       "493755                                          [2462810]  [2559032]  \n",
       "493756                [762820, 2536870, 3381993, 4083897]   [640579]  \n",
       "\n",
       "[493757 rows x 17 columns]"
      ]
     },
     "execution_count": 115,
     "metadata": {},
     "output_type": "execute_result"
    }
   ],
   "source": [
    "df"
   ]
  },
  {
   "cell_type": "code",
   "execution_count": 116,
   "metadata": {},
   "outputs": [],
   "source": [
    "actors = []\n",
    "for a in df.actors:\n",
    "    try:\n",
    "        act = []\n",
    "        c = a.split(\",\")\n",
    "        for i in c:\n",
    "            if '[' in i:\n",
    "                i = i[1:]\n",
    "            if ']' in i:\n",
    "                i = i[:-1]\n",
    "            act.append(i)\n",
    "        actors.append(act)\n",
    "    except AttributeError:\n",
    "        actors.append('0')"
   ]
  },
  {
   "cell_type": "code",
   "execution_count": 117,
   "metadata": {},
   "outputs": [],
   "source": [
    "df.actors = actors"
   ]
  },
  {
   "cell_type": "code",
   "execution_count": 118,
   "metadata": {},
   "outputs": [],
   "source": [
    "directors = []\n",
    "for a in df.directors:\n",
    "    try:\n",
    "        dir1 = []\n",
    "        c = a.split(\",\")\n",
    "        for i in c:\n",
    "            if '[' in i:\n",
    "                i = i[1:]\n",
    "            if ']' in i:\n",
    "                i = i[:-1]\n",
    "            dir1.append(i)\n",
    "        directors.append(dir1)\n",
    "    except AttributeError:\n",
    "        directors.append('0')\n",
    "        \n",
    "df.directors = directors"
   ]
  },
  {
   "cell_type": "code",
   "execution_count": 119,
   "metadata": {},
   "outputs": [],
   "source": [
    "producers = []\n",
    "for a in df.producers:\n",
    "    try:\n",
    "        prod = []\n",
    "        c = a.split(\",\")\n",
    "        for i in c:\n",
    "            if '[' in i:\n",
    "                i = i[1:]\n",
    "            if ']' in i:\n",
    "                i = i[:-1]\n",
    "            prod.append(i)\n",
    "        producers.append(prod)\n",
    "    except AttributeError:\n",
    "        producers.append('0')\n",
    "        \n",
    "df.producers = producers"
   ]
  },
  {
   "cell_type": "code",
   "execution_count": 120,
   "metadata": {},
   "outputs": [],
   "source": [
    "writers = []\n",
    "for a in df.writers:\n",
    "    try:\n",
    "        wr = []\n",
    "        c = a.split(\",\")\n",
    "        for i in c:\n",
    "            if '[' in i:\n",
    "                i = i[1:]\n",
    "            if ']' in i:\n",
    "                i = i[:-1]\n",
    "            wr.append(i)\n",
    "        writers.append(wr)\n",
    "    except AttributeError:\n",
    "        writers.append('0')\n",
    "        \n",
    "df.writers = writers"
   ]
  },
  {
   "cell_type": "code",
   "execution_count": 121,
   "metadata": {},
   "outputs": [],
   "source": [
    "operators = []\n",
    "for a in df.operators:\n",
    "    try:\n",
    "        op = []\n",
    "        c = a.split(\",\")\n",
    "        for i in c:\n",
    "            if '[' in i:\n",
    "                i = i[1:]\n",
    "            if ']' in i:\n",
    "                i = i[:-1]\n",
    "            op.append(i)\n",
    "        operators.append(op)\n",
    "    except AttributeError:\n",
    "        operators.append('0')\n",
    "        \n",
    "df.operators = operators"
   ]
  },
  {
   "cell_type": "code",
   "execution_count": 122,
   "metadata": {},
   "outputs": [],
   "source": [
    "year = []\n",
    "for a in df.year:\n",
    "    try:\n",
    "        year.append(int(a))\n",
    "    except ValueError:\n",
    "        year.append('0')"
   ]
  },
  {
   "cell_type": "code",
   "execution_count": 123,
   "metadata": {},
   "outputs": [],
   "source": [
    "df.year = year"
   ]
  },
  {
   "cell_type": "code",
   "execution_count": 124,
   "metadata": {},
   "outputs": [],
   "source": [
    "#df.to_csv('DataFrame.csv')"
   ]
  },
  {
   "cell_type": "code",
   "execution_count": 125,
   "metadata": {},
   "outputs": [],
   "source": [
    "#df = pd.read_csv('DataFrame.csv', index_col= False)\n",
    "#df.drop(\"Unnamed: 0\", axis = 1, inplace=True)"
   ]
  },
  {
   "cell_type": "code",
   "execution_count": 126,
   "metadata": {},
   "outputs": [],
   "source": [
    "df = df.loc[isNaN(df['description']) == False]"
   ]
  },
  {
   "cell_type": "code",
   "execution_count": 127,
   "metadata": {},
   "outputs": [
    {
     "data": {
      "text/plain": [
       "(106427, 17)"
      ]
     },
     "execution_count": 127,
     "metadata": {},
     "output_type": "execute_result"
    }
   ],
   "source": [
    "df.shape"
   ]
  },
  {
   "cell_type": "code",
   "execution_count": 139,
   "metadata": {},
   "outputs": [],
   "source": [
    "import pymorphy2\n",
    "morph = pymorphy2.MorphAnalyzer()"
   ]
  },
  {
   "cell_type": "code",
   "execution_count": 151,
   "metadata": {},
   "outputs": [],
   "source": [
    "words = df.loc[0].description\n",
    "words = words.split(' ')"
   ]
  },
  {
   "cell_type": "code",
   "execution_count": 197,
   "metadata": {},
   "outputs": [],
   "source": [
    "description = []"
   ]
  },
  {
   "cell_type": "code",
   "execution_count": 200,
   "metadata": {},
   "outputs": [
    {
     "data": {
      "application/vnd.jupyter.widget-view+json": {
       "model_id": "60ad403787dd4967825804e56a7932f3",
       "version_major": 2,
       "version_minor": 0
      },
      "text/plain": [
       "HBox(children=(HTML(value=''), FloatProgress(value=0.0, max=106427.0), HTML(value='')))"
      ]
     },
     "metadata": {},
     "output_type": "display_data"
    },
    {
     "name": "stdout",
     "output_type": "stream",
     "text": [
      "\n"
     ]
    }
   ],
   "source": [
    "for el in tqdm_notebook(df.description):\n",
    "    w = []\n",
    "    words = el\n",
    "    words = words.split(' ')\n",
    "    for word in words:\n",
    "        word = re.sub('[^A-zА-яЁе]+','',  word)\n",
    "        p = morph.parse(word)[0]\n",
    "        if p.normal_form not in stop_words: \n",
    "            w.append(p.normal_form)\n",
    "    description.append(w)"
   ]
  },
  {
   "cell_type": "code",
   "execution_count": 202,
   "metadata": {},
   "outputs": [],
   "source": [
    "d = description"
   ]
  },
  {
   "cell_type": "code",
   "execution_count": 208,
   "metadata": {},
   "outputs": [],
   "source": [
    "description = description[1:]"
   ]
  },
  {
   "cell_type": "code",
   "execution_count": 209,
   "metadata": {},
   "outputs": [
    {
     "data": {
      "text/plain": [
       "106427"
      ]
     },
     "execution_count": 209,
     "metadata": {},
     "output_type": "execute_result"
    }
   ],
   "source": [
    "len(description)"
   ]
  },
  {
   "cell_type": "code",
   "execution_count": 210,
   "metadata": {},
   "outputs": [
    {
     "data": {
      "text/plain": [
       "(106427, 17)"
      ]
     },
     "execution_count": 210,
     "metadata": {},
     "output_type": "execute_result"
    }
   ],
   "source": [
    "df.shape"
   ]
  },
  {
   "cell_type": "code",
   "execution_count": 212,
   "metadata": {},
   "outputs": [
    {
     "data": {
      "text/plain": [
       "106427"
      ]
     },
     "execution_count": 212,
     "metadata": {},
     "output_type": "execute_result"
    }
   ],
   "source": [
    "len(description)"
   ]
  },
  {
   "cell_type": "code",
   "execution_count": null,
   "metadata": {},
   "outputs": [],
   "source": []
  }
 ],
 "metadata": {
  "kernelspec": {
   "display_name": "Python 3",
   "language": "python",
   "name": "python3"
  },
  "language_info": {
   "codemirror_mode": {
    "name": "ipython",
    "version": 3
   },
   "file_extension": ".py",
   "mimetype": "text/x-python",
   "name": "python",
   "nbconvert_exporter": "python",
   "pygments_lexer": "ipython3",
   "version": "3.8.2"
  }
 },
 "nbformat": 4,
 "nbformat_minor": 4
}
