{
 "cells": [
  {
   "cell_type": "code",
   "execution_count": 282,
   "metadata": {},
   "outputs": [],
   "source": [
    "import numpy as np\n",
    "import pandas as pd\n",
    "import pymorphy2\n",
    "import string\n",
    "import re\n",
    "import nltk\n",
    "from nltk.stem import WordNetLemmatizer\n",
    "from nltk.corpus import stopwords\n",
    "stop_words = set(stopwords.words(\"english\"))\n",
    "lemmatizer = WordNetLemmatizer()\n",
    "morph = pymorphy2.MorphAnalyzer()\n",
    "def pos(word, morth=pymorphy2.MorphAnalyzer()):\n",
    "    return morth.parse(word)[0].tag.POS\n",
    "train_df = pd.read_csv(\"train.csv\")\n",
    "test_df = pd.read_csv(\"test.csv\")"
   ]
  },
  {
   "cell_type": "code",
   "execution_count": 252,
   "metadata": {},
   "outputs": [
    {
     "name": "stderr",
     "output_type": "stream",
     "text": [
      "<timed exec>:13: SettingWithCopyWarning: \n",
      "A value is trying to be set on a copy of a slice from a DataFrame\n",
      "\n",
      "See the caveats in the documentation: https://pandas.pydata.org/pandas-docs/stable/user_guide/indexing.html#returning-a-view-versus-a-copy\n",
      "<timed exec>:17: SettingWithCopyWarning: \n",
      "A value is trying to be set on a copy of a slice from a DataFrame\n",
      "\n",
      "See the caveats in the documentation: https://pandas.pydata.org/pandas-docs/stable/user_guide/indexing.html#returning-a-view-versus-a-copy\n"
     ]
    },
    {
     "name": "stdout",
     "output_type": "stream",
     "text": [
      "CPU times: user 15min 14s, sys: 657 ms, total: 15min 15s\n",
      "Wall time: 15min 15s\n"
     ]
    },
    {
     "data": {
      "text/html": [
       "<div>\n",
       "<style scoped>\n",
       "    .dataframe tbody tr th:only-of-type {\n",
       "        vertical-align: middle;\n",
       "    }\n",
       "\n",
       "    .dataframe tbody tr th {\n",
       "        vertical-align: top;\n",
       "    }\n",
       "\n",
       "    .dataframe thead th {\n",
       "        text-align: right;\n",
       "    }\n",
       "</style>\n",
       "<table border=\"1\" class=\"dataframe\">\n",
       "  <thead>\n",
       "    <tr style=\"text-align: right;\">\n",
       "      <th></th>\n",
       "      <th>id</th>\n",
       "      <th>url</th>\n",
       "      <th>title</th>\n",
       "      <th>target</th>\n",
       "    </tr>\n",
       "  </thead>\n",
       "  <tbody>\n",
       "    <tr>\n",
       "      <th>0</th>\n",
       "      <td>0</td>\n",
       "      <td>m.kp.md</td>\n",
       "      <td>эксминистр экономика молдова глава мидэя цель ...</td>\n",
       "      <td>False</td>\n",
       "    </tr>\n",
       "    <tr>\n",
       "      <th>1</th>\n",
       "      <td>1</td>\n",
       "      <td>www.kp.by</td>\n",
       "      <td>этот песня стать известный многий телезритель ...</td>\n",
       "      <td>False</td>\n",
       "    </tr>\n",
       "    <tr>\n",
       "      <th>2</th>\n",
       "      <td>2</td>\n",
       "      <td>fanserials.tv</td>\n",
       "      <td>банша сезон серия бремя красота смотреть онлайн</td>\n",
       "      <td>False</td>\n",
       "    </tr>\n",
       "    <tr>\n",
       "      <th>3</th>\n",
       "      <td>3</td>\n",
       "      <td>colorbox.spb.ru</td>\n",
       "      <td>бесить я картинка</td>\n",
       "      <td>False</td>\n",
       "    </tr>\n",
       "    <tr>\n",
       "      <th>4</th>\n",
       "      <td>4</td>\n",
       "      <td>tula-sport.ru</td>\n",
       "      <td>новомосковск сыграть следжхоккеист алексинский...</td>\n",
       "      <td>False</td>\n",
       "    </tr>\n",
       "    <tr>\n",
       "      <th>...</th>\n",
       "      <td>...</td>\n",
       "      <td>...</td>\n",
       "      <td>...</td>\n",
       "      <td>...</td>\n",
       "    </tr>\n",
       "    <tr>\n",
       "      <th>135304</th>\n",
       "      <td>135304</td>\n",
       "      <td>mail.ru</td>\n",
       "      <td>пора тюльпан турецкий сериал русский язык резу...</td>\n",
       "      <td>False</td>\n",
       "    </tr>\n",
       "    <tr>\n",
       "      <th>135305</th>\n",
       "      <td>135305</td>\n",
       "      <td>www.ntv.ru</td>\n",
       "      <td>остросюжетный сериал шеф игра повышение я серия</td>\n",
       "      <td>False</td>\n",
       "    </tr>\n",
       "    <tr>\n",
       "      <th>135306</th>\n",
       "      <td>135306</td>\n",
       "      <td>topclassiccarsforsale.com</td>\n",
       "      <td>plymouth special deluxe hot rod automaticsmall...</td>\n",
       "      <td>False</td>\n",
       "    </tr>\n",
       "    <tr>\n",
       "      <th>135307</th>\n",
       "      <td>135307</td>\n",
       "      <td>wowcream.ru</td>\n",
       "      <td>купить skin сыворотка питательный power formul...</td>\n",
       "      <td>False</td>\n",
       "    </tr>\n",
       "    <tr>\n",
       "      <th>135308</th>\n",
       "      <td>135308</td>\n",
       "      <td>www.ubu.ru</td>\n",
       "      <td>технический спирт канистра флакон купить москва</td>\n",
       "      <td>False</td>\n",
       "    </tr>\n",
       "  </tbody>\n",
       "</table>\n",
       "<p>135309 rows × 4 columns</p>\n",
       "</div>"
      ],
      "text/plain": [
       "            id                        url  \\\n",
       "0            0                    m.kp.md   \n",
       "1            1                  www.kp.by   \n",
       "2            2              fanserials.tv   \n",
       "3            3            colorbox.spb.ru   \n",
       "4            4              tula-sport.ru   \n",
       "...        ...                        ...   \n",
       "135304  135304                    mail.ru   \n",
       "135305  135305                 www.ntv.ru   \n",
       "135306  135306  topclassiccarsforsale.com   \n",
       "135307  135307                wowcream.ru   \n",
       "135308  135308                 www.ubu.ru   \n",
       "\n",
       "                                                    title  target  \n",
       "0       эксминистр экономика молдова глава мидэя цель ...   False  \n",
       "1       этот песня стать известный многий телезритель ...   False  \n",
       "2         банша сезон серия бремя красота смотреть онлайн   False  \n",
       "3                                       бесить я картинка   False  \n",
       "4       новомосковск сыграть следжхоккеист алексинский...   False  \n",
       "...                                                   ...     ...  \n",
       "135304  пора тюльпан турецкий сериал русский язык резу...   False  \n",
       "135305    остросюжетный сериал шеф игра повышение я серия   False  \n",
       "135306  plymouth special deluxe hot rod automaticsmall...   False  \n",
       "135307  купить skin сыворотка питательный power formul...   False  \n",
       "135308    технический спирт канистра флакон купить москва   False  \n",
       "\n",
       "[135309 rows x 4 columns]"
      ]
     },
     "execution_count": 252,
     "metadata": {},
     "output_type": "execute_result"
    }
   ],
   "source": [
    "%%time\n",
    "for el in range(len(train_df['title'])):\n",
    "    words = []\n",
    "    for w in train_df['title'][el].split():\n",
    "        w = w.rstrip(string.punctuation)\n",
    "        w = w.lower()\n",
    "        w = lemmatizer.lemmatize(w)\n",
    "        w = re.sub('[^A-Za-zА-Яа-я]+','',  w)\n",
    "        if len(w) == 0:\n",
    "            continue\n",
    "        p = morph.parse(w)[0]\n",
    "        words.append(p.normal_form)\n",
    "    functors_pos = {'INTJ', 'PRCL', 'CONJ', 'PREP'} \n",
    "    train_df['title'][el] = ' '.join([word for word in words if pos(word) not in functors_pos])\n",
    "    words = nltk.word_tokenize(train_df['title'][el])\n",
    "    without_w = [word for word in words if not word in stop_words]\n",
    "    #print(without_w)\n",
    "    train_df['title'][el] = ' '.join(without_w)\n",
    "train_df"
   ]
  },
  {
   "cell_type": "code",
   "execution_count": 283,
   "metadata": {},
   "outputs": [
    {
     "name": "stderr",
     "output_type": "stream",
     "text": [
      "<ipython-input-283-52598dae4f3d>:5: SettingWithCopyWarning: \n",
      "A value is trying to be set on a copy of a slice from a DataFrame\n",
      "\n",
      "See the caveats in the documentation: https://pandas.pydata.org/pandas-docs/stable/user_guide/indexing.html#returning-a-view-versus-a-copy\n",
      "  train_df['url'][el] = train_df['url'][el][:pos_point]\n",
      "<ipython-input-283-52598dae4f3d>:6: SettingWithCopyWarning: \n",
      "A value is trying to be set on a copy of a slice from a DataFrame\n",
      "\n",
      "See the caveats in the documentation: https://pandas.pydata.org/pandas-docs/stable/user_guide/indexing.html#returning-a-view-versus-a-copy\n",
      "  train_df['url'][el] = re.sub('[^A-Za-z1-10]+','',  train_df['url'][el])\n",
      "<ipython-input-283-52598dae4f3d>:3: SettingWithCopyWarning: \n",
      "A value is trying to be set on a copy of a slice from a DataFrame\n",
      "\n",
      "See the caveats in the documentation: https://pandas.pydata.org/pandas-docs/stable/user_guide/indexing.html#returning-a-view-versus-a-copy\n",
      "  train_df['url'][el] = train_df['url'][el][4:]\n"
     ]
    },
    {
     "data": {
      "text/html": [
       "<div>\n",
       "<style scoped>\n",
       "    .dataframe tbody tr th:only-of-type {\n",
       "        vertical-align: middle;\n",
       "    }\n",
       "\n",
       "    .dataframe tbody tr th {\n",
       "        vertical-align: top;\n",
       "    }\n",
       "\n",
       "    .dataframe thead th {\n",
       "        text-align: right;\n",
       "    }\n",
       "</style>\n",
       "<table border=\"1\" class=\"dataframe\">\n",
       "  <thead>\n",
       "    <tr style=\"text-align: right;\">\n",
       "      <th></th>\n",
       "      <th>id</th>\n",
       "      <th>url</th>\n",
       "      <th>title</th>\n",
       "      <th>target</th>\n",
       "    </tr>\n",
       "  </thead>\n",
       "  <tbody>\n",
       "    <tr>\n",
       "      <th>0</th>\n",
       "      <td>0</td>\n",
       "      <td>mkp</td>\n",
       "      <td>Экс-министр экономики Молдовы - главе МИДЭИ, ц...</td>\n",
       "      <td>False</td>\n",
       "    </tr>\n",
       "    <tr>\n",
       "      <th>1</th>\n",
       "      <td>1</td>\n",
       "      <td>kp</td>\n",
       "      <td>Эта песня стала известна многим телезрителям б...</td>\n",
       "      <td>False</td>\n",
       "    </tr>\n",
       "    <tr>\n",
       "      <th>2</th>\n",
       "      <td>2</td>\n",
       "      <td>fanserials</td>\n",
       "      <td>Банши 4 сезон 2 серия Бремя красоты смотреть о...</td>\n",
       "      <td>False</td>\n",
       "    </tr>\n",
       "    <tr>\n",
       "      <th>3</th>\n",
       "      <td>3</td>\n",
       "      <td>colorboxspb</td>\n",
       "      <td>Не Беси Меня Картинки</td>\n",
       "      <td>False</td>\n",
       "    </tr>\n",
       "    <tr>\n",
       "      <th>4</th>\n",
       "      <td>4</td>\n",
       "      <td>tulasport</td>\n",
       "      <td>В Новомосковске сыграют следж-хоккеисты алекси...</td>\n",
       "      <td>False</td>\n",
       "    </tr>\n",
       "    <tr>\n",
       "      <th>...</th>\n",
       "      <td>...</td>\n",
       "      <td>...</td>\n",
       "      <td>...</td>\n",
       "      <td>...</td>\n",
       "    </tr>\n",
       "    <tr>\n",
       "      <th>135304</th>\n",
       "      <td>135304</td>\n",
       "      <td>mail</td>\n",
       "      <td>пора тюльпанов турецкий сериал на русском язык...</td>\n",
       "      <td>False</td>\n",
       "    </tr>\n",
       "    <tr>\n",
       "      <th>135305</th>\n",
       "      <td>135305</td>\n",
       "      <td>ntv</td>\n",
       "      <td>Остросюжетный сериал «Шеф. Игра на повышение»....</td>\n",
       "      <td>False</td>\n",
       "    </tr>\n",
       "    <tr>\n",
       "      <th>135306</th>\n",
       "      <td>135306</td>\n",
       "      <td>topclassiccarsforsale</td>\n",
       "      <td>1941 Plymouth Special Deluxe Hot Rod, Automati...</td>\n",
       "      <td>False</td>\n",
       "    </tr>\n",
       "    <tr>\n",
       "      <th>135307</th>\n",
       "      <td>135307</td>\n",
       "      <td>wowcream</td>\n",
       "      <td>Купить It's Skin Сыворотка питательная Power 1...</td>\n",
       "      <td>False</td>\n",
       "    </tr>\n",
       "    <tr>\n",
       "      <th>135308</th>\n",
       "      <td>135308</td>\n",
       "      <td>ubu</td>\n",
       "      <td>Технический спирт в канистрах и флаконах, купи...</td>\n",
       "      <td>False</td>\n",
       "    </tr>\n",
       "  </tbody>\n",
       "</table>\n",
       "<p>135309 rows × 4 columns</p>\n",
       "</div>"
      ],
      "text/plain": [
       "            id                    url  \\\n",
       "0            0                    mkp   \n",
       "1            1                     kp   \n",
       "2            2             fanserials   \n",
       "3            3            colorboxspb   \n",
       "4            4              tulasport   \n",
       "...        ...                    ...   \n",
       "135304  135304                   mail   \n",
       "135305  135305                    ntv   \n",
       "135306  135306  topclassiccarsforsale   \n",
       "135307  135307               wowcream   \n",
       "135308  135308                    ubu   \n",
       "\n",
       "                                                    title  target  \n",
       "0       Экс-министр экономики Молдовы - главе МИДЭИ, ц...   False  \n",
       "1       Эта песня стала известна многим телезрителям б...   False  \n",
       "2       Банши 4 сезон 2 серия Бремя красоты смотреть о...   False  \n",
       "3                                   Не Беси Меня Картинки   False  \n",
       "4       В Новомосковске сыграют следж-хоккеисты алекси...   False  \n",
       "...                                                   ...     ...  \n",
       "135304  пора тюльпанов турецкий сериал на русском язык...   False  \n",
       "135305  Остросюжетный сериал «Шеф. Игра на повышение»....   False  \n",
       "135306  1941 Plymouth Special Deluxe Hot Rod, Automati...   False  \n",
       "135307  Купить It's Skin Сыворотка питательная Power 1...   False  \n",
       "135308  Технический спирт в канистрах и флаконах, купи...   False  \n",
       "\n",
       "[135309 rows x 4 columns]"
      ]
     },
     "execution_count": 283,
     "metadata": {},
     "output_type": "execute_result"
    }
   ],
   "source": [
    "for el in range(len(train_df['url'])):\n",
    "    if 'www.' in train_df['url'][el]:\n",
    "        train_df['url'][el] = train_df['url'][el][4:]\n",
    "    pos_point = train_df['url'][el].rfind('.')\n",
    "    train_df['url'][el] = train_df['url'][el][:pos_point]\n",
    "    train_df['url'][el] = re.sub('[^A-Za-z1-10]+','',  train_df['url'][el])\n",
    "train_df"
   ]
  },
  {
   "cell_type": "code",
   "execution_count": 284,
   "metadata": {},
   "outputs": [],
   "source": [
    "from sklearn.metrics import f1_score"
   ]
  },
  {
   "cell_type": "code",
   "execution_count": 285,
   "metadata": {},
   "outputs": [],
   "source": [
    "X_train = train_df[\"title\"].values\n",
    "X_test = test_df[\"title\"].values\n",
    "Xu_train = train_df[\"url\"].values\n",
    "Xu_test = test_df[\"url\"].values\n",
    "y_train = train_df[\"target\"].astype(int).values\n"
   ]
  },
  {
   "cell_type": "markdown",
   "metadata": {},
   "source": [
    "# Simple baseline"
   ]
  },
  {
   "cell_type": "code",
   "execution_count": 298,
   "metadata": {},
   "outputs": [],
   "source": [
    "y_pred = [int(\"порно\" in text) for text in X_train]"
   ]
  },
  {
   "cell_type": "code",
   "execution_count": 299,
   "metadata": {},
   "outputs": [
    {
     "data": {
      "text/plain": [
       "0.31242758551206484"
      ]
     },
     "execution_count": 299,
     "metadata": {},
     "output_type": "execute_result"
    }
   ],
   "source": [
    "f1_score(y_train, y_pred)"
   ]
  },
  {
   "cell_type": "markdown",
   "metadata": {},
   "source": [
    "# ML baseline"
   ]
  },
  {
   "cell_type": "code",
   "execution_count": 289,
   "metadata": {},
   "outputs": [],
   "source": [
    "from sklearn.feature_extraction.text import CountVectorizer\n",
    "from sklearn.naive_bayes import MultinomialNB\n",
    "\n",
    "vectorizer1 = CountVectorizer()\n",
    "vectorizer2 = CountVectorizer(analyzer='word', ngram_range=(2, 2))\n",
    "vectorizeru = CountVectorizer()\n",
    "\n",
    "model1 = MultinomialNB()\n",
    "model2 = MultinomialNB()\n",
    "modelu = MultinomialNB()"
   ]
  },
  {
   "cell_type": "code",
   "execution_count": 290,
   "metadata": {},
   "outputs": [],
   "source": [
    "X1_train_vectorized = vectorizer1.fit_transform(X_train)\n",
    "X2_train_vectorized = vectorizer2.fit_transform(X_train)\n",
    "Xu_train_vectorized = vectorizeru.fit_transform(Xu_train)"
   ]
  },
  {
   "cell_type": "code",
   "execution_count": 291,
   "metadata": {},
   "outputs": [
    {
     "data": {
      "text/plain": [
       "<135309x189852 sparse matrix of type '<class 'numpy.int64'>'\n",
       "\twith 1202659 stored elements in Compressed Sparse Row format>"
      ]
     },
     "execution_count": 291,
     "metadata": {},
     "output_type": "execute_result"
    }
   ],
   "source": [
    "X1_train_vectorized#xX1_train_vectorized"
   ]
  },
  {
   "cell_type": "code",
   "execution_count": 292,
   "metadata": {},
   "outputs": [
    {
     "name": "stdout",
     "output_type": "stream",
     "text": [
      "Экс-министр экономики Молдовы - главе МИДЭИ, цель которого сделать из республики не просителя, а донора: Надо избегать долгого нахождения н�\n"
     ]
    }
   ],
   "source": [
    "print(X_train[0])    "
   ]
  },
  {
   "cell_type": "code",
   "execution_count": 293,
   "metadata": {},
   "outputs": [
    {
     "name": "stdout",
     "output_type": "stream",
     "text": [
      "CPU times: user 88.9 ms, sys: 10.4 ms, total: 99.2 ms\n",
      "Wall time: 98.2 ms\n"
     ]
    },
    {
     "data": {
      "text/plain": [
       "MultinomialNB()"
      ]
     },
     "execution_count": 293,
     "metadata": {},
     "output_type": "execute_result"
    }
   ],
   "source": [
    "%%time\n",
    "\n",
    "model1.fit(\n",
    "    X1_train_vectorized,\n",
    "    y_train\n",
    ")\n",
    "\n",
    "\n",
    "model2.fit(\n",
    "    X2_train_vectorized,\n",
    "    y_train\n",
    ")\n",
    "\n",
    "modelu.fit(\n",
    "    Xu_train_vectorized,\n",
    "    y_train\n",
    ")"
   ]
  },
  {
   "cell_type": "code",
   "execution_count": 294,
   "metadata": {},
   "outputs": [
    {
     "name": "stdout",
     "output_type": "stream",
     "text": [
      "0.8709961798413165\n",
      "0.9088775909268675\n",
      "0.8775967717829921\n"
     ]
    }
   ],
   "source": [
    "print(f1_score(y_test, yu_pred))\n",
    "print(f1_score(y_test, y1_pred))\n",
    "print(f1_score(y_test, y2_pred))"
   ]
  },
  {
   "cell_type": "markdown",
   "metadata": {},
   "source": [
    "### Submit"
   ]
  },
  {
   "cell_type": "code",
   "execution_count": 264,
   "metadata": {},
   "outputs": [
    {
     "name": "stderr",
     "output_type": "stream",
     "text": [
      "<timed exec>:13: SettingWithCopyWarning: \n",
      "A value is trying to be set on a copy of a slice from a DataFrame\n",
      "\n",
      "See the caveats in the documentation: https://pandas.pydata.org/pandas-docs/stable/user_guide/indexing.html#returning-a-view-versus-a-copy\n",
      "<timed exec>:17: SettingWithCopyWarning: \n",
      "A value is trying to be set on a copy of a slice from a DataFrame\n",
      "\n",
      "See the caveats in the documentation: https://pandas.pydata.org/pandas-docs/stable/user_guide/indexing.html#returning-a-view-versus-a-copy\n"
     ]
    },
    {
     "name": "stdout",
     "output_type": "stream",
     "text": [
      "CPU times: user 21min 16s, sys: 747 ms, total: 21min 17s\n",
      "Wall time: 21min 17s\n"
     ]
    },
    {
     "data": {
      "text/html": [
       "<div>\n",
       "<style scoped>\n",
       "    .dataframe tbody tr th:only-of-type {\n",
       "        vertical-align: middle;\n",
       "    }\n",
       "\n",
       "    .dataframe tbody tr th {\n",
       "        vertical-align: top;\n",
       "    }\n",
       "\n",
       "    .dataframe thead th {\n",
       "        text-align: right;\n",
       "    }\n",
       "</style>\n",
       "<table border=\"1\" class=\"dataframe\">\n",
       "  <thead>\n",
       "    <tr style=\"text-align: right;\">\n",
       "      <th></th>\n",
       "      <th>id</th>\n",
       "      <th>url</th>\n",
       "      <th>title</th>\n",
       "    </tr>\n",
       "  </thead>\n",
       "  <tbody>\n",
       "    <tr>\n",
       "      <th>0</th>\n",
       "      <td>135309</td>\n",
       "      <td>www.kommersant.ru</td>\n",
       "      <td>шестой кассационный суд самара начать работа р...</td>\n",
       "    </tr>\n",
       "    <tr>\n",
       "      <th>1</th>\n",
       "      <td>135310</td>\n",
       "      <td>urexpert.online</td>\n",
       "      <td>такой индексация алименты кто какой случай про...</td>\n",
       "    </tr>\n",
       "    <tr>\n",
       "      <th>2</th>\n",
       "      <td>135311</td>\n",
       "      <td>imperimeha.ru</td>\n",
       "      <td>женщина империя мех part</td>\n",
       "    </tr>\n",
       "    <tr>\n",
       "      <th>3</th>\n",
       "      <td>135312</td>\n",
       "      <td>national-porn.com</td>\n",
       "      <td>небритый волосатый киска порно весь страна нац...</td>\n",
       "    </tr>\n",
       "    <tr>\n",
       "      <th>4</th>\n",
       "      <td>135313</td>\n",
       "      <td>2gis.ru</td>\n",
       "      <td></td>\n",
       "    </tr>\n",
       "    <tr>\n",
       "      <th>...</th>\n",
       "      <td>...</td>\n",
       "      <td>...</td>\n",
       "      <td>...</td>\n",
       "    </tr>\n",
       "    <tr>\n",
       "      <th>165373</th>\n",
       "      <td>300682</td>\n",
       "      <td>etp.armtek.ru</td>\n",
       "      <td>armtek запчасть грузовой легковой автомобиль о...</td>\n",
       "    </tr>\n",
       "    <tr>\n",
       "      <th>165374</th>\n",
       "      <td>300683</td>\n",
       "      <td>mail.ru</td>\n",
       "      <td>лилия якупов караганда карагандинский область ...</td>\n",
       "    </tr>\n",
       "    <tr>\n",
       "      <th>165375</th>\n",
       "      <td>300684</td>\n",
       "      <td>xn----8sbnqchpeeeth.xn--p1ai</td>\n",
       "      <td>администрация лесной район тверской область я ...</td>\n",
       "    </tr>\n",
       "    <tr>\n",
       "      <th>165376</th>\n",
       "      <td>300685</td>\n",
       "      <td>www-sunhome-ru.cdn.ampproject.org</td>\n",
       "      <td>сонник изменение сознание сниться изменение со...</td>\n",
       "    </tr>\n",
       "    <tr>\n",
       "      <th>165377</th>\n",
       "      <td>300686</td>\n",
       "      <td>virtual-hockey.org</td>\n",
       "      <td>строительство база команда грандрапидс гриффин...</td>\n",
       "    </tr>\n",
       "  </tbody>\n",
       "</table>\n",
       "<p>165378 rows × 3 columns</p>\n",
       "</div>"
      ],
      "text/plain": [
       "            id                                url  \\\n",
       "0       135309                  www.kommersant.ru   \n",
       "1       135310                    urexpert.online   \n",
       "2       135311                      imperimeha.ru   \n",
       "3       135312                  national-porn.com   \n",
       "4       135313                            2gis.ru   \n",
       "...        ...                                ...   \n",
       "165373  300682                      etp.armtek.ru   \n",
       "165374  300683                            mail.ru   \n",
       "165375  300684       xn----8sbnqchpeeeth.xn--p1ai   \n",
       "165376  300685  www-sunhome-ru.cdn.ampproject.org   \n",
       "165377  300686                 virtual-hockey.org   \n",
       "\n",
       "                                                    title  \n",
       "0       шестой кассационный суд самара начать работа р...  \n",
       "1       такой индексация алименты кто какой случай про...  \n",
       "2                                женщина империя мех part  \n",
       "3       небритый волосатый киска порно весь страна нац...  \n",
       "4                                                          \n",
       "...                                                   ...  \n",
       "165373  armtek запчасть грузовой легковой автомобиль о...  \n",
       "165374  лилия якупов караганда карагандинский область ...  \n",
       "165375  администрация лесной район тверской область я ...  \n",
       "165376  сонник изменение сознание сниться изменение со...  \n",
       "165377  строительство база команда грандрапидс гриффин...  \n",
       "\n",
       "[165378 rows x 3 columns]"
      ]
     },
     "execution_count": 264,
     "metadata": {},
     "output_type": "execute_result"
    }
   ],
   "source": [
    "%%time\n",
    "for el in range(len(test_df['title'])):\n",
    "    words = []\n",
    "    for w in test_df['title'][el].split():\n",
    "        w = w.rstrip(string.punctuation)\n",
    "        w = w.lower()\n",
    "        w = lemmatizer.lemmatize(w)\n",
    "        w = re.sub('[^A-Za-zА-Яа-я]+','',  w)\n",
    "        if len(w) == 0:\n",
    "            continue\n",
    "        p = morph.parse(w)[0]\n",
    "        words.append(p.normal_form)\n",
    "    functors_pos = {'INTJ', 'PRCL', 'CONJ', 'PREP'} \n",
    "    test_df['title'][el] = ' '.join([word for word in words if pos(word) not in functors_pos])\n",
    "    words = nltk.word_tokenize(test_df['title'][el])\n",
    "    without_w = [word for word in words if not word in stop_words]\n",
    "    test_df['title'][el] = ' '.join(without_w)\n",
    "test_df"
   ]
  },
  {
   "cell_type": "code",
   "execution_count": 295,
   "metadata": {},
   "outputs": [
    {
     "name": "stderr",
     "output_type": "stream",
     "text": [
      "<timed exec>:3: SettingWithCopyWarning: \n",
      "A value is trying to be set on a copy of a slice from a DataFrame\n",
      "\n",
      "See the caveats in the documentation: https://pandas.pydata.org/pandas-docs/stable/user_guide/indexing.html#returning-a-view-versus-a-copy\n",
      "<timed exec>:5: SettingWithCopyWarning: \n",
      "A value is trying to be set on a copy of a slice from a DataFrame\n",
      "\n",
      "See the caveats in the documentation: https://pandas.pydata.org/pandas-docs/stable/user_guide/indexing.html#returning-a-view-versus-a-copy\n",
      "<timed exec>:6: SettingWithCopyWarning: \n",
      "A value is trying to be set on a copy of a slice from a DataFrame\n",
      "\n",
      "See the caveats in the documentation: https://pandas.pydata.org/pandas-docs/stable/user_guide/indexing.html#returning-a-view-versus-a-copy\n"
     ]
    },
    {
     "name": "stdout",
     "output_type": "stream",
     "text": [
      "CPU times: user 3min 7s, sys: 1.58 s, total: 3min 8s\n",
      "Wall time: 3min 7s\n"
     ]
    },
    {
     "data": {
      "text/html": [
       "<div>\n",
       "<style scoped>\n",
       "    .dataframe tbody tr th:only-of-type {\n",
       "        vertical-align: middle;\n",
       "    }\n",
       "\n",
       "    .dataframe tbody tr th {\n",
       "        vertical-align: top;\n",
       "    }\n",
       "\n",
       "    .dataframe thead th {\n",
       "        text-align: right;\n",
       "    }\n",
       "</style>\n",
       "<table border=\"1\" class=\"dataframe\">\n",
       "  <thead>\n",
       "    <tr style=\"text-align: right;\">\n",
       "      <th></th>\n",
       "      <th>id</th>\n",
       "      <th>url</th>\n",
       "      <th>title</th>\n",
       "    </tr>\n",
       "  </thead>\n",
       "  <tbody>\n",
       "    <tr>\n",
       "      <th>0</th>\n",
       "      <td>135309</td>\n",
       "      <td>kommersant</td>\n",
       "      <td>Шестой кассационный суд в Самаре начнет работу...</td>\n",
       "    </tr>\n",
       "    <tr>\n",
       "      <th>1</th>\n",
       "      <td>135310</td>\n",
       "      <td>urexpert</td>\n",
       "      <td>Что такое индексация алиментов, кем и в каких ...</td>\n",
       "    </tr>\n",
       "    <tr>\n",
       "      <th>2</th>\n",
       "      <td>135311</td>\n",
       "      <td>imperimeha</td>\n",
       "      <td>Женщинам | Империя Меха - Part 12</td>\n",
       "    </tr>\n",
       "    <tr>\n",
       "      <th>3</th>\n",
       "      <td>135312</td>\n",
       "      <td>nationalporn</td>\n",
       "      <td>Небритые, волосатые киски: Порно всех стран и ...</td>\n",
       "    </tr>\n",
       "    <tr>\n",
       "      <th>4</th>\n",
       "      <td>135313</td>\n",
       "      <td>gis</td>\n",
       "      <td>67</td>\n",
       "    </tr>\n",
       "    <tr>\n",
       "      <th>...</th>\n",
       "      <td>...</td>\n",
       "      <td>...</td>\n",
       "      <td>...</td>\n",
       "    </tr>\n",
       "    <tr>\n",
       "      <th>165373</th>\n",
       "      <td>300682</td>\n",
       "      <td>etparmtek</td>\n",
       "      <td>Armtek - запчасти для грузовых и легковых авто...</td>\n",
       "    </tr>\n",
       "    <tr>\n",
       "      <th>165374</th>\n",
       "      <td>300683</td>\n",
       "      <td>mail</td>\n",
       "      <td>Лилия Якупова - Караганда, Карагандинская обла...</td>\n",
       "    </tr>\n",
       "    <tr>\n",
       "      <th>165375</th>\n",
       "      <td>300684</td>\n",
       "      <td>xnsbnqchpeeeth</td>\n",
       "      <td>Администрация Лесного района Тверской области ...</td>\n",
       "    </tr>\n",
       "    <tr>\n",
       "      <th>165376</th>\n",
       "      <td>300685</td>\n",
       "      <td>wwwsunhomerucdnampproject</td>\n",
       "      <td>Сонник Изменение сознания. К чему снится Измен...</td>\n",
       "    </tr>\n",
       "    <tr>\n",
       "      <th>165377</th>\n",
       "      <td>300686</td>\n",
       "      <td>virtualhockey</td>\n",
       "      <td>Строительство базы команды Гранд-Рапидс Гриффи...</td>\n",
       "    </tr>\n",
       "  </tbody>\n",
       "</table>\n",
       "<p>165378 rows × 3 columns</p>\n",
       "</div>"
      ],
      "text/plain": [
       "            id                        url  \\\n",
       "0       135309                 kommersant   \n",
       "1       135310                   urexpert   \n",
       "2       135311                 imperimeha   \n",
       "3       135312               nationalporn   \n",
       "4       135313                        gis   \n",
       "...        ...                        ...   \n",
       "165373  300682                  etparmtek   \n",
       "165374  300683                       mail   \n",
       "165375  300684             xnsbnqchpeeeth   \n",
       "165376  300685  wwwsunhomerucdnampproject   \n",
       "165377  300686              virtualhockey   \n",
       "\n",
       "                                                    title  \n",
       "0       Шестой кассационный суд в Самаре начнет работу...  \n",
       "1       Что такое индексация алиментов, кем и в каких ...  \n",
       "2                       Женщинам | Империя Меха - Part 12  \n",
       "3       Небритые, волосатые киски: Порно всех стран и ...  \n",
       "4                                                      67  \n",
       "...                                                   ...  \n",
       "165373  Armtek - запчасти для грузовых и легковых авто...  \n",
       "165374  Лилия Якупова - Караганда, Карагандинская обла...  \n",
       "165375  Администрация Лесного района Тверской области ...  \n",
       "165376  Сонник Изменение сознания. К чему снится Измен...  \n",
       "165377  Строительство базы команды Гранд-Рапидс Гриффи...  \n",
       "\n",
       "[165378 rows x 3 columns]"
      ]
     },
     "execution_count": 295,
     "metadata": {},
     "output_type": "execute_result"
    }
   ],
   "source": [
    "%%time\n",
    "for el in range(len(test_df['url'])):\n",
    "    if 'www.' in test_df['url'][el]:\n",
    "        test_df['url'][el] = test_df['url'][el][4:]\n",
    "    pos_point = test_df['url'][el].rfind('.')\n",
    "    test_df['url'][el] = test_df['url'][el][:pos_point]\n",
    "    test_df['url'][el] = re.sub('[^A-Za-z1-10]+','',  test_df['url'][el])\n",
    "test_df"
   ]
  },
  {
   "cell_type": "code",
   "execution_count": 297,
   "metadata": {},
   "outputs": [
    {
     "name": "stderr",
     "output_type": "stream",
     "text": [
      "<ipython-input-297-244c2a861c0b>:12: SettingWithCopyWarning: \n",
      "A value is trying to be set on a copy of a slice from a DataFrame\n",
      "\n",
      "See the caveats in the documentation: https://pandas.pydata.org/pandas-docs/stable/user_guide/indexing.html#returning-a-view-versus-a-copy\n",
      "  test_df[\"target\"][i] = test_df[\"targetu\"][i] or test_df[\"target1\"][i] and test_df[\"target2\"][i]\n"
     ]
    },
    {
     "name": "stdout",
     "output_type": "stream",
     "text": [
      "id,target\r\n",
      "135309,False\r\n",
      "135310,False\r\n",
      "135311,False\r\n",
      "135312,True\r\n",
      "135313,False\r\n",
      "135314,False\r\n",
      "135315,False\r\n",
      "135316,False\r\n",
      "135317,False\r\n",
      "cat: stdout: Broken pipe\r\n"
     ]
    }
   ],
   "source": [
    "X1_test_vectorized = vectorizer1.transform(X_test)\n",
    "X2_test_vectorized = vectorizer2.transform(X_test)\n",
    "Xu_test_vectorized = vectorizeru.transform(Xu_test)\n",
    "\n",
    "\n",
    "test_df[\"target1\"] = model1.predict(X1_test_vectorized).astype(bool)\n",
    "test_df[\"target2\"] = model2.predict(X2_test_vectorized).astype(bool)\n",
    "test_df[\"targetu\"] = modelu.predict(Xu_test_vectorized).astype(bool)\n",
    "\n",
    "test_df[\"target\"] = test_df[\"target1\"]\n",
    "for i in range(len(test_df[\"target1\"])):\n",
    "    test_df[\"target\"][i] = test_df[\"targetu\"][i] or test_df[\"target1\"][i] and test_df[\"target2\"][i]\n",
    "\n",
    "test_df[[\"id\", \"target\"]].to_csv(\"ml_baseline.csv\", index=False)\n",
    "\n",
    "!cat ml_baseline.csv | head"
   ]
  },
  {
   "cell_type": "code",
   "execution_count": null,
   "metadata": {},
   "outputs": [],
   "source": []
  },
  {
   "cell_type": "code",
   "execution_count": null,
   "metadata": {},
   "outputs": [],
   "source": []
  }
 ],
 "metadata": {
  "kernelspec": {
   "display_name": "Python 3",
   "language": "python",
   "name": "python3"
  },
  "language_info": {
   "codemirror_mode": {
    "name": "ipython",
    "version": 3
   },
   "file_extension": ".py",
   "mimetype": "text/x-python",
   "name": "python",
   "nbconvert_exporter": "python",
   "pygments_lexer": "ipython3",
   "version": "3.8.2"
  }
 },
 "nbformat": 4,
 "nbformat_minor": 2
}
